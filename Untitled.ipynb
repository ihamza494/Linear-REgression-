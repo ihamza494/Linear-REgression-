{
 "cells": [
  {
   "cell_type": "code",
   "execution_count": 1,
   "id": "998e7b50",
   "metadata": {},
   "outputs": [],
   "source": [
    "import numpy as np\n",
    "Revenue=np.array([[200,220,250],[450,350,300],[280,320,400]])\n",
    "pkr= 171\n"
   ]
  },
  {
   "cell_type": "code",
   "execution_count": 2,
   "id": "712decf4",
   "metadata": {},
   "outputs": [],
   "source": [
    "revenueInPkr = Revenue*pkr"
   ]
  },
  {
   "cell_type": "code",
   "execution_count": 3,
   "id": "f931f6ae",
   "metadata": {},
   "outputs": [
    {
     "data": {
      "text/plain": [
       "array([[34200, 37620, 42750],\n",
       "       [76950, 59850, 51300],\n",
       "       [47880, 54720, 68400]])"
      ]
     },
     "execution_count": 3,
     "metadata": {},
     "output_type": "execute_result"
    }
   ],
   "source": [
    "revenueInPkr"
   ]
  },
  {
   "cell_type": "code",
   "execution_count": 4,
   "id": "d2f07f5a",
   "metadata": {},
   "outputs": [],
   "source": [
    "Sale = np.array([[65,20,32],[65,42,12],[20,24,35]])\n",
    "rate = np.array([20,30,50])\n"
   ]
  },
  {
   "cell_type": "code",
   "execution_count": 5,
   "id": "da73f164",
   "metadata": {},
   "outputs": [
    {
     "data": {
      "text/plain": [
       "array([3500, 3160, 2870])"
      ]
     },
     "execution_count": 5,
     "metadata": {},
     "output_type": "execute_result"
    }
   ],
   "source": [
    "np.dot(Sale, rate)"
   ]
  },
  {
   "cell_type": "code",
   "execution_count": null,
   "id": "ff2c9d32",
   "metadata": {},
   "outputs": [],
   "source": []
  }
 ],
 "metadata": {
  "kernelspec": {
   "display_name": "Python 3",
   "language": "python",
   "name": "python3"
  },
  "language_info": {
   "codemirror_mode": {
    "name": "ipython",
    "version": 3
   },
   "file_extension": ".py",
   "mimetype": "text/x-python",
   "name": "python",
   "nbconvert_exporter": "python",
   "pygments_lexer": "ipython3",
   "version": "3.8.8"
  }
 },
 "nbformat": 4,
 "nbformat_minor": 5
}
